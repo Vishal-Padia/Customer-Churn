{
 "cells": [
  {
   "cell_type": "markdown",
   "id": "8a0a0443",
   "metadata": {},
   "source": [
    "# Customer Churn Prediction"
   ]
  },
  {
   "cell_type": "markdown",
   "id": "0971e13c",
   "metadata": {},
   "source": [
    "## Steps to involved:\n",
    "- Reviewing the dataset\n",
    "- Exploratory Data Analysis for Customer Churn Prediction\n",
    "- Cleaning the dataset\n",
    "- Encoding Categorical Variables\n",
    "- Oversampling (Since the dataset is imbalanced)\n",
    "- Building the Model\n",
    "- Model Evaluation"
   ]
  },
  {
   "cell_type": "markdown",
   "id": "74f7f8db",
   "metadata": {},
   "source": [
    "## Importing Libraries"
   ]
  },
  {
   "cell_type": "code",
   "execution_count": 3,
   "id": "873334e6",
   "metadata": {},
   "outputs": [],
   "source": [
    "import numpy as np\n",
    "import pandas as pd\n",
    "import matplotlib.pyplot as plt\n",
    "import seaborn as sns\n",
    "import warnings\n",
    "# warnings.filterwarnings('ignore', category=)"
   ]
  },
  {
   "cell_type": "code",
   "execution_count": null,
   "id": "e77945ad",
   "metadata": {},
   "outputs": [],
   "source": []
  }
 ],
 "metadata": {
  "kernelspec": {
   "display_name": "Python 3 (ipykernel)",
   "language": "python",
   "name": "python3"
  },
  "language_info": {
   "codemirror_mode": {
    "name": "ipython",
    "version": 3
   },
   "file_extension": ".py",
   "mimetype": "text/x-python",
   "name": "python",
   "nbconvert_exporter": "python",
   "pygments_lexer": "ipython3",
   "version": "3.8.8"
  }
 },
 "nbformat": 4,
 "nbformat_minor": 5
}
